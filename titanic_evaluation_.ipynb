{
 "cells": [
  {
   "cell_type": "markdown",
   "id": "00f57a45",
   "metadata": {},
   "source": [
    "# Titanic - Evaluation and Interpretation\n",
    "## Objective\n",
    "In this section, we will evaluate the performance of our trained models using\n",
    "various metrics such as confusion matrix, classification report, and ROC curves."
   ]
  },
  {
   "cell_type": "code",
   "execution_count": null,
   "id": "437f76c3",
   "metadata": {},
   "outputs": [],
   "source": [
    "import pandas as pd\n",
    "import seaborn as sns\n",
    "import matplotlib.pyplot as plt\n",
    "from sklearn.model_selection import train_test_split\n",
    "from sklearn.ensemble import RandomForestClassifier\n",
    "from sklearn.linear_model import LogisticRegression\n",
    "from sklearn.metrics import classification_report, confusion_matrix, roc_auc_score, roc_curve\n",
    "\n",
    "train_df = pd.read_csv('train_cleaned.csv')\n",
    "\n",
    "features = ['Pclass', 'Sex', 'Age', 'Fare', 'FamilySize', 'IsAlone', 'Embarked_Q', 'Embarked_S', 'Title_Miss', 'Title_Mr', 'Title_Mrs']\n",
    "X = train_df[features]\n",
    "y = train_df['Survived']\n",
    "\n",
    "X_train, X_val, y_train, y_val = train_test_split(X, y, test_size=0.2, random_state=42)\n",
    "print('Data split into training and validation sets.')"
   ]
  },
  {
   "cell_type": "markdown",
   "id": "2f6fa1cb",
   "metadata": {},
   "source": [
    "## Model Training\n",
    "We will train both Logistic Regression and Random Forest models to evaluate their performance."
   ]
  },
  {
   "cell_type": "code",
   "execution_count": null,
   "id": "386a0f1c",
   "metadata": {},
   "outputs": [],
   "source": [
    "log_reg = LogisticRegression(max_iter=1000)\n",
    "log_reg.fit(X_train, y_train)\n",
    "rf = RandomForestClassifier(n_estimators=100, random_state=42)\n",
    "rf.fit(X_train, y_train)\n",
    "\n",
    "y_pred_log = log_reg.predict(X_val)\n",
    "y_pred_rf = rf.predict(X_val)\n",
    "\n",
    "y_proba_log = log_reg.predict_proba(X_val)[:, 1]\n",
    "y_proba_rf = rf.predict_proba(X_val)[:, 1]"
   ]
  },
  {
   "cell_type": "markdown",
   "id": "301dd785",
   "metadata": {},
   "source": [
    "## Evaluation Metrics\n",
    "We will evaluate the models using accuracy, confusion matrix, and ROC curves."
   ]
  },
  {
   "cell_type": "code",
   "execution_count": null,
   "id": "d998cd38",
   "metadata": {},
   "outputs": [],
   "source": [
    "conf_matrix_rf = confusion_matrix(y_val, y_pred_rf)\n",
    "sns.heatmap(conf_matrix_rf, annot=True, fmt='d', cmap='Blues')\n",
    "plt.title('Confusion Matrix - Random Forest')\n",
    "plt.show()\n",
    "\n",
    "print('Random Forest Classification Report:')\n",
    "print(classification_report(y_val, y_pred_rf))"
   ]
  },
  {
   "cell_type": "markdown",
   "id": "08241979",
   "metadata": {},
   "source": [
    "## ROC Curve\n",
    "We will plot the ROC curve to analyze the model's performance across different thresholds."
   ]
  },
  {
   "cell_type": "code",
   "execution_count": null,
   "id": "07340973",
   "metadata": {},
   "outputs": [],
   "source": [
    "fpr_log, tpr_log, _ = roc_curve(y_val, y_proba_log)\n",
    "fpr_rf, tpr_rf, _ = roc_curve(y_val, y_proba_rf)\n",
    "\n",
    "plt.plot(fpr_log, tpr_log, label='Logistic Regression (AUC = %0.2f)' % roc_auc_score(y_val, y_proba_log))\n",
    "plt.plot(fpr_rf, tpr_rf, label='Random Forest (AUC = %0.2f)' % roc_auc_score(y_val, y_proba_rf))\n",
    "plt.plot([0, 1], [0, 1], linestyle='--')\n",
    "plt.xlabel('False Positive Rate')\n",
    "plt.ylabel('True Positive Rate')\n",
    "plt.title('Receiver Operating Characteristic (ROC) Curve')\n",
    "plt.legend()\n",
    "plt.show()"
   ]
  },
  {
   "cell_type": "markdown",
   "id": "450a9b18",
   "metadata": {},
   "source": [
    "## Conclusion\n",
    "- The confusion matrix helps in understanding false positives and negatives.\n",
    "- Classification reports provide precision, recall, and F1-score.\n",
    "- ROC curves give an insight into the trade-off between sensitivity and specificity."
   ]
  }
 ],
 "metadata": {
  "kernelspec": {
   "display_name": "Python 3",
   "language": "python",
   "name": "python3"
  },
  "language_info": {
   "name": "python"
  }
 },
 "nbformat": 4,
 "nbformat_minor": 5
}
