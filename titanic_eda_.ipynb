{
 "cells": [
  {
   "cell_type": "markdown",
   "id": "c647ac21",
   "metadata": {},
   "source": [
    "# Titanic - Exploratory Data Analysis (EDA)\n",
    "## Objective\n",
    "In this exploratory data analysis, we will analyze Titanic passenger data,\n",
    "understand its structure, identify patterns, and prepare it for further processing."
   ]
  },
  {
   "cell_type": "code",
   "execution_count": null,
   "id": "0dad12fd",
   "metadata": {},
   "outputs": [],
   "source": [
    "import pandas as pd\n",
    "import seaborn as sns\n",
    "import matplotlib.pyplot as plt\n",
    "import missingno as msno\n",
    "\n",
    "train_df = pd.read_csv('train.csv')\n",
    "test_df = pd.read_csv('test.csv')\n",
    "\n",
    "print('Train dataset information:')\n",
    "print(train_df.info())\n",
    "print('\\nTest dataset information:')\n",
    "print(test_df.info())"
   ]
  },
  {
   "cell_type": "markdown",
   "id": "4b113c21",
   "metadata": {},
   "source": [
    "## Descriptive Statistics\n",
    "Below are the descriptive statistics for the datasets."
   ]
  },
  {
   "cell_type": "code",
   "execution_count": null,
   "id": "e548ce81",
   "metadata": {},
   "outputs": [],
   "source": [
    "print(train_df.describe())\n",
    "print(test_df.describe())"
   ]
  },
  {
   "cell_type": "markdown",
   "id": "5f1a1240",
   "metadata": {},
   "source": [
    "## Missing Values Visualization\n",
    "Analyzing missing values helps us identify columns that need imputation or removal."
   ]
  },
  {
   "cell_type": "code",
   "execution_count": null,
   "id": "1f4984c9",
   "metadata": {},
   "outputs": [],
   "source": [
    "plt.figure(figsize=(10, 6))\n",
    "sns.heatmap(train_df.isnull(), cbar=False, cmap='viridis')\n",
    "plt.title('Missing values in train.csv')\n",
    "plt.show()\n",
    "\n",
    "plt.figure(figsize=(10, 6))\n",
    "sns.heatmap(test_df.isnull(), cbar=False, cmap='viridis')\n",
    "plt.title('Missing values in test.csv')\n",
    "plt.show()"
   ]
  },
  {
   "cell_type": "markdown",
   "id": "0aad0ac1",
   "metadata": {},
   "source": [
    "## Survival Distribution\n",
    "Let's analyze the survival distribution."
   ]
  },
  {
   "cell_type": "code",
   "execution_count": null,
   "id": "e68a4bd4",
   "metadata": {},
   "outputs": [],
   "source": [
    "sns.countplot(x='Survived', data=train_df)\n",
    "plt.title('Survival distribution')\n",
    "plt.show()"
   ]
  },
  {
   "cell_type": "markdown",
   "id": "1c8fe096",
   "metadata": {},
   "source": [
    "## Age Distribution\n",
    "Analyzing the age distribution of passengers on Titanic."
   ]
  },
  {
   "cell_type": "code",
   "execution_count": null,
   "id": "ba5ed301",
   "metadata": {},
   "outputs": [],
   "source": [
    "sns.histplot(train_df['Age'].dropna(), kde=True, bins=30)\n",
    "plt.title('Age distribution')\n",
    "plt.show()"
   ]
  },
  {
   "cell_type": "markdown",
   "id": "b0885300",
   "metadata": {},
   "source": [
    "## Survival by Gender\n",
    "Analyzing survival rates based on gender."
   ]
  },
  {
   "cell_type": "code",
   "execution_count": null,
   "id": "c8301086",
   "metadata": {},
   "outputs": [],
   "source": [
    "sns.countplot(x='Sex', hue='Survived', data=train_df)\n",
    "plt.title('Survival by Gender')\n",
    "plt.show()"
   ]
  },
  {
   "cell_type": "markdown",
   "id": "876c25d2",
   "metadata": {},
   "source": [
    "## Survival by Passenger Class\n",
    "Analyzing survival rates by passenger class."
   ]
  },
  {
   "cell_type": "code",
   "execution_count": null,
   "id": "c36a7e26",
   "metadata": {},
   "outputs": [],
   "source": [
    "sns.countplot(x='Pclass', hue='Survived', data=train_df)\n",
    "plt.title('Survival by Passenger Class')\n",
    "plt.show()"
   ]
  },
  {
   "cell_type": "markdown",
   "id": "7943c059",
   "metadata": {},
   "source": [
    "## Conclusions\n",
    "- A significant number of missing values are in the 'Cabin' column.\n",
    "- Most passengers are in the age range of 20-40 years.\n",
    "- Women had a higher survival rate.\n",
    "- Higher class passengers had better chances of survival."
   ]
  }
 ],
 "metadata": {
  "kernelspec": {
   "display_name": "Python 3",
   "language": "python",
   "name": "python3"
  },
  "language_info": {
   "name": "python"
  }
 },
 "nbformat": 4,
 "nbformat_minor": 5
}
