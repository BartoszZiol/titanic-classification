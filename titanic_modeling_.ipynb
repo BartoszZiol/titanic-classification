{
 "cells": [
  {
   "cell_type": "markdown",
   "id": "7adf5842",
   "metadata": {},
   "source": [
    "# Titanic - Modeling\n",
    "## Objective\n",
    "In this section, we will train machine learning models on the cleaned Titanic dataset,\n",
    "split the data into training and validation sets, and evaluate model performance."
   ]
  },
  {
   "cell_type": "code",
   "execution_count": null,
   "id": "e28578ee",
   "metadata": {},
   "outputs": [],
   "source": [
    "import pandas as pd\n",
    "from sklearn.model_selection import train_test_split\n",
    "from sklearn.ensemble import RandomForestClassifier\n",
    "from sklearn.linear_model import LogisticRegression\n",
    "from sklearn.metrics import accuracy_score, classification_report\n",
    "\n",
    "train_df = pd.read_csv('train_cleaned.csv')\n",
    "\n",
    "features = ['Pclass', 'Sex', 'Age', 'Fare', 'FamilySize', 'IsAlone', 'Embarked_Q', 'Embarked_S', 'Title_Miss', 'Title_Mr', 'Title_Mrs']\n",
    "X = train_df[features]\n",
    "y = train_df['Survived']\n",
    "\n",
    "X_train, X_val, y_train, y_val = train_test_split(X, y, test_size=0.2, random_state=42)\n",
    "print('Data split into training and validation sets.')"
   ]
  },
  {
   "cell_type": "markdown",
   "id": "2452150f",
   "metadata": {},
   "source": [
    "## Training Logistic Regression Model\n",
    "We will train a logistic regression model and evaluate its accuracy."
   ]
  },
  {
   "cell_type": "code",
   "execution_count": null,
   "id": "1e4a68df",
   "metadata": {},
   "outputs": [],
   "source": [
    "log_reg = LogisticRegression(max_iter=1000)\n",
    "log_reg.fit(X_train, y_train)\n",
    "\n",
    "y_pred_log = log_reg.predict(X_val)\n",
    "\n",
    "print('Logistic Regression Accuracy:', accuracy_score(y_val, y_pred_log))\n",
    "print('Classification Report:')\n",
    "print(classification_report(y_val, y_pred_log))"
   ]
  },
  {
   "cell_type": "markdown",
   "id": "1458a543",
   "metadata": {},
   "source": [
    "## Training Random Forest Model\n",
    "We will train a random forest classifier and compare its performance to logistic regression."
   ]
  },
  {
   "cell_type": "code",
   "execution_count": null,
   "id": "07197a79",
   "metadata": {},
   "outputs": [],
   "source": [
    "rf = RandomForestClassifier(n_estimators=100, random_state=42)\n",
    "rf.fit(X_train, y_train)\n",
    "\n",
    "y_pred_rf = rf.predict(X_val)\n",
    "\n",
    "print('Random Forest Accuracy:', accuracy_score(y_val, y_pred_rf))\n",
    "print('Classification Report:')\n",
    "print(classification_report(y_val, y_pred_rf))"
   ]
  },
  {
   "cell_type": "markdown",
   "id": "e3884d33",
   "metadata": {},
   "source": [
    "## Conclusion\n",
    "- Compare accuracy of logistic regression and random forest.\n",
    "- Select the better model for further predictions.\n",
    "- Tune hyperparameters for better performance."
   ]
  }
 ],
 "metadata": {
  "kernelspec": {
   "display_name": "Python 3",
   "language": "python",
   "name": "python3"
  },
  "language_info": {
   "name": "python"
  }
 },
 "nbformat": 4,
 "nbformat_minor": 5
}
