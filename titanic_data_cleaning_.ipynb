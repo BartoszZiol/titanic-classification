{
 "cells": [
  {
   "cell_type": "markdown",
   "id": "b5d106ef",
   "metadata": {},
   "source": [
    "# Titanic - Data Cleaning and Feature Engineering\n",
    "## Objective\n",
    "In this section, we will clean the dataset by handling missing values,\n",
    "convert categorical variables, and create new features to improve model performance."
   ]
  },
  {
   "cell_type": "code",
   "execution_count": null,
   "id": "0d179d4a",
   "metadata": {},
   "outputs": [],
   "source": [
    "import pandas as pd\n",
    "from sklearn.impute import SimpleImputer\n",
    "from sklearn.preprocessing import LabelEncoder, StandardScaler\n",
    "\n",
    "train_df = pd.read_csv('train.csv')\n",
    "test_df = pd.read_csv('test.csv')\n",
    "\n",
    "print('Train dataset information before cleaning:')\n",
    "print(train_df.info())\n",
    "print('\\nTest dataset information before cleaning:')\n",
    "print(test_df.info())"
   ]
  },
  {
   "cell_type": "markdown",
   "id": "ddb12de2",
   "metadata": {},
   "source": [
    "## Handling Missing Values\n",
    "We will fill missing values using the median for numerical columns and mode for categorical ones."
   ]
  },
  {
   "cell_type": "code",
   "execution_count": null,
   "id": "1e09412c",
   "metadata": {},
   "outputs": [],
   "source": [
    "imputer_median = SimpleImputer(strategy='median')\n",
    "train_df['Age'] = imputer_median.fit_transform(train_df[['Age']])\n",
    "test_df['Age'] = imputer_median.transform(test_df[['Age']])\n",
    "\n",
    "test_df['Fare'] = imputer_median.fit_transform(test_df[['Fare']])\n",
    "\n",
    "imputer_mode = SimpleImputer(strategy='most_frequent')\n",
    "train_df['Embarked'] = imputer_mode.fit_transform(train_df[['Embarked']])\n",
    "test_df['Embarked'] = imputer_mode.transform(test_df[['Embarked']])"
   ]
  },
  {
   "cell_type": "markdown",
   "id": "fd2b8540",
   "metadata": {},
   "source": [
    "## Feature Engineering\n",
    "Creating new meaningful features from existing data."
   ]
  },
  {
   "cell_type": "code",
   "execution_count": null,
   "id": "242c1cf7",
   "metadata": {},
   "outputs": [],
   "source": [
    "train_df['FamilySize'] = train_df['SibSp'] + train_df['Parch'] + 1\n",
    "test_df['FamilySize'] = test_df['SibSp'] + test_df['Parch'] + 1\n",
    "\n",
    "train_df['IsAlone'] = 1\n",
    "train_df.loc[train_df['FamilySize'] > 1, 'IsAlone'] = 0\n",
    "test_df['IsAlone'] = 1\n",
    "test_df.loc[test_df['FamilySize'] > 1, 'IsAlone'] = 0\n",
    "\n",
    "train_df['Title'] = train_df['Name'].apply(lambda name: name.split(',')[1].split('.')[0].strip())\n",
    "test_df['Title'] = test_df['Name'].apply(lambda name: name.split(',')[1].split('.')[0].strip())"
   ]
  },
  {
   "cell_type": "markdown",
   "id": "87cca1e8",
   "metadata": {},
   "source": [
    "## Encoding Categorical Variables\n",
    "Converting categorical features into numerical format using label encoding and one-hot encoding."
   ]
  },
  {
   "cell_type": "code",
   "execution_count": null,
   "id": "224dcae4",
   "metadata": {},
   "outputs": [],
   "source": [
    "le = LabelEncoder()\n",
    "train_df['Sex'] = le.fit_transform(train_df['Sex'])\n",
    "test_df['Sex'] = le.transform(test_df['Sex'])\n",
    "\n",
    "train_df = pd.get_dummies(train_df, columns=['Embarked', 'Title'], drop_first=True)\n",
    "test_df = pd.get_dummies(test_df, columns=['Embarked', 'Title'], drop_first=True)"
   ]
  },
  {
   "cell_type": "markdown",
   "id": "50802b11",
   "metadata": {},
   "source": [
    "## Scaling Numerical Features\n",
    "Scaling features to bring them into a uniform range."
   ]
  },
  {
   "cell_type": "code",
   "execution_count": null,
   "id": "36588072",
   "metadata": {},
   "outputs": [],
   "source": [
    "scaler = StandardScaler()\n",
    "train_df[['Age', 'Fare', 'FamilySize']] = scaler.fit_transform(train_df[['Age', 'Fare', 'FamilySize']])\n",
    "test_df[['Age', 'Fare', 'FamilySize']] = scaler.transform(test_df[['Age', 'Fare', 'FamilySize']])"
   ]
  },
  {
   "cell_type": "markdown",
   "id": "0747a0c1",
   "metadata": {},
   "source": [
    "## Removing Unnecessary Columns\n",
    "Dropping irrelevant features that are not needed for model training."
   ]
  },
  {
   "cell_type": "code",
   "execution_count": null,
   "id": "f23dc152",
   "metadata": {},
   "outputs": [],
   "source": [
    "train_df.drop(columns=['Name', 'Ticket', 'Cabin', 'PassengerId'], inplace=True)\n",
    "test_df.drop(columns=['Name', 'Ticket', 'Cabin', 'PassengerId'], inplace=True)\n",
    "\n",
    "print('Train dataset after cleaning:', train_df.head())\n",
    "print('Test dataset after cleaning:', test_df.head())"
   ]
  },
  {
   "cell_type": "markdown",
   "id": "60d3a60e",
   "metadata": {},
   "source": [
    "## Saving Cleaned Data\n",
    "We will now save the cleaned datasets for further use."
   ]
  },
  {
   "cell_type": "code",
   "execution_count": null,
   "id": "47d0eb9d",
   "metadata": {},
   "outputs": [],
   "source": [
    "train_df.to_csv('train_cleaned.csv', index=False)\n",
    "test_df.to_csv('test_cleaned.csv', index=False)\n",
    "print('Cleaned datasets saved successfully!')"
   ]
  }
 ],
 "metadata": {
  "kernelspec": {
   "display_name": "Python 3",
   "language": "python",
   "name": "python3"
  },
  "language_info": {
   "name": "python"
  }
 },
 "nbformat": 4,
 "nbformat_minor": 5
}
